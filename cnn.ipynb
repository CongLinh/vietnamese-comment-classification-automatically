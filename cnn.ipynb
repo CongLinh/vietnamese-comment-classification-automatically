{
 "cells": [
  {
   "cell_type": "code",
   "execution_count": 1,
   "metadata": {},
   "outputs": [
    {
     "name": "stdout",
     "output_type": "stream",
     "text": [
      "cnn\n"
     ]
    }
   ],
   "source": [
    "print(\"cnn\")"
   ]
  },
  {
   "cell_type": "code",
   "execution_count": 2,
   "metadata": {},
   "outputs": [
    {
     "name": "stdout",
     "output_type": "stream",
     "text": [
      "9685\n"
     ]
    },
    {
     "name": "stderr",
     "output_type": "stream",
     "text": [
      "/Users/linhnvc/anaconda3/lib/python3.7/site-packages/smart_open/smart_open_lib.py:398: UserWarning: This function is deprecated, use smart_open.open instead. See the migration notes for details: https://github.com/RaRe-Technologies/smart_open/blob/master/README.rst#migrating-to-the-new-open-function\n",
      "  'See the migration notes for details: %s' % _MIGRATION_NOTES_URL\n"
     ]
    }
   ],
   "source": [
    "import gensim.models.keyedvectors as word2vec\n",
    "model_embedding = word2vec.KeyedVectors.load('./word.model')\n",
    "\n",
    "word_labels = []\n",
    "max_seq = 70\n",
    "embedding_size = 128\n",
    "\n",
    "for word in model_embedding.vocab.keys():\n",
    "    word_labels.append(word)\n",
    "    \n",
    "print(len(word_labels))"
   ]
  },
  {
   "cell_type": "code",
   "execution_count": 3,
   "metadata": {},
   "outputs": [],
   "source": [
    "import numpy as np\n",
    "def comment_embedding(comment):\n",
    "    matrix = np.zeros((max_seq, embedding_size))\n",
    "    words = comment.split()\n",
    "    lencmt = len(words)\n",
    "    \n",
    "    so_lan_du_1_cau = 0\n",
    "\n",
    "    for i in range(max_seq):\n",
    "        indexword = i % lencmt\n",
    "\n",
    "        so_lan_du_1_cau = i//lencmt\n",
    "        if (max_seq - so_lan_du_1_cau*lencmt < lencmt):\n",
    "            break\n",
    "        if(words[indexword] in word_labels):\n",
    "            matrix[i] = model_embedding[words[indexword]]\n",
    "\n",
    "    matrix = np.array(matrix)\n",
    "    return matrix\n"
   ]
  },
  {
   "cell_type": "code",
   "execution_count": 4,
   "metadata": {},
   "outputs": [
    {
     "name": "stdout",
     "output_type": "stream",
     "text": [
      "12772\n"
     ]
    },
    {
     "name": "stderr",
     "output_type": "stream",
     "text": [
      "/Users/linhnvc/anaconda3/lib/python3.7/site-packages/ipykernel_launcher.py:8: FutureWarning: Sorting because non-concatenation axis is not aligned. A future version\n",
      "of pandas will change to not sort by default.\n",
      "\n",
      "To accept the future behavior, pass 'sort=False'.\n",
      "\n",
      "To retain the current behavior and silence the warning, pass 'sort=True'.\n",
      "\n",
      "  \n"
     ]
    }
   ],
   "source": [
    "import os\n",
    "import pandas as pd\n",
    "path = './data/'\n",
    "def readdata(path):\n",
    "    list_file = os.listdir(path)\n",
    "    data = pd.DataFrame()\n",
    "    for filename in list_file:\n",
    "        data = pd.concat([data, pd.read_csv(os.path.join(path, filename), sep = ',')])\n",
    "        \n",
    "    return data.Review, data.Label\n",
    "reviews, labels = readdata(path)\n",
    "print(len(reviews))"
   ]
  },
  {
   "cell_type": "code",
   "execution_count": 5,
   "metadata": {},
   "outputs": [
    {
     "name": "stderr",
     "output_type": "stream",
     "text": [
      "100%|██████████| 12772/12772 [00:21<00:00, 600.32it/s]\n"
     ]
    }
   ],
   "source": [
    "from tqdm import tqdm\n",
    "import gensim\n",
    "from pyvi import ViTokenizer\n",
    "\n",
    "train_data = []\n",
    "label_data = []\n",
    "\n",
    "# comments = []\n",
    "\n",
    "for x in tqdm(reviews):\n",
    "    x = gensim.utils.simple_preprocess(x)\n",
    "    x = ' '.join(x)\n",
    "    x = ViTokenizer.tokenize(x)\n",
    "    # comments.append(x)\n",
    "    train_data.append(comment_embedding(x))\n",
    "train_data = np.array(train_data)\n",
    "\n"
   ]
  },
  {
   "cell_type": "code",
   "execution_count": 6,
   "metadata": {},
   "outputs": [
    {
     "name": "stderr",
     "output_type": "stream",
     "text": [
      "100%|██████████| 12772/12772 [00:00<00:00, 302258.92it/s]"
     ]
    },
    {
     "name": "stdout",
     "output_type": "stream",
     "text": [
      "6592 6180\n"
     ]
    },
    {
     "name": "stderr",
     "output_type": "stream",
     "text": [
      "\n"
     ]
    }
   ],
   "source": [
    "n = 0\n",
    "p = 0\n",
    "for y in tqdm(labels):\n",
    "    label_ = np.zeros(2)\n",
    "    \n",
    "    if int(y) == 1:\n",
    "        label_[1] = 1\n",
    "        p += 1\n",
    "    if int(y) == -1:\n",
    "        label_[0] = 1\n",
    "        n += 1\n",
    "        \n",
    "    label_data.append(label_)\n",
    "    \n",
    "print(p, n)\n"
   ]
  },
  {
   "cell_type": "code",
   "execution_count": 19,
   "metadata": {},
   "outputs": [
    {
     "name": "stdout",
     "output_type": "stream",
     "text": [
      "Model: \"sequential_1\"\n",
      "_________________________________________________________________\n",
      "Layer (type)                 Output Shape              Param #   \n",
      "=================================================================\n",
      "conv2d_1 (Conv2D)            (None, 68, 1, 150)        57750     \n",
      "_________________________________________________________________\n",
      "max_pooling2d_1 (MaxPooling2 (None, 1, 1, 150)         0         \n",
      "_________________________________________________________________\n",
      "dropout_1 (Dropout)          (None, 1, 1, 150)         0         \n",
      "_________________________________________________________________\n",
      "flatten_1 (Flatten)          (None, 150)               0         \n",
      "_________________________________________________________________\n",
      "dense_2 (Dense)              (None, 128)               19328     \n",
      "_________________________________________________________________\n",
      "dense_3 (Dense)              (None, 2)                 258       \n",
      "=================================================================\n",
      "Total params: 77,336\n",
      "Trainable params: 77,336\n",
      "Non-trainable params: 0\n",
      "_________________________________________________________________\n",
      "None\n"
     ]
    }
   ],
   "source": [
    "import numpy as np\n",
    "from tensorflow.keras import layers\n",
    "from tensorflow import keras \n",
    "import tensorflow as tf\n",
    "from keras.preprocessing import sequence\n",
    "\n",
    "sequence_length = 70\n",
    "embedding_size = 128\n",
    "num_classes = 2\n",
    "filter_sizes = 3\n",
    "num_filters = 150\n",
    "epochs = 5\n",
    "batch_size = 30\n",
    "learning_rate = 0.001\n",
    "dropout_rate = 0.5\n",
    "\n",
    "\n",
    "x_train = train_data.reshape(train_data.shape[0], sequence_length, embedding_size, 1).astype('float32')\n",
    "y_train = np.array(label_data)\n",
    "\n",
    "# Define model\n",
    "model = keras.Sequential()\n",
    "model.add(layers.Convolution2D(num_filters, (filter_sizes, embedding_size),\n",
    "                        padding='valid',\n",
    "                        input_shape=(sequence_length, embedding_size, 1), activation='relu'))\n",
    "model.add(layers.MaxPooling2D(pool_size=(68, 1)))\n",
    "model.add(layers.Dropout(dropout_rate))\n",
    "model.add(layers.Flatten())\n",
    "model.add(layers.Dense(128, activation='relu'))\n",
    "model.add(layers.Dense(2, activation='softmax'))\n",
    "# Train model\n",
    "adam = tf.train.AdamOptimizer()\n",
    "model.compile(loss='categorical_crossentropy',\n",
    "              optimizer=adam,\n",
    "              metrics=['accuracy'])\n",
    "print(model.summary())"
   ]
  },
  {
   "cell_type": "code",
   "execution_count": 20,
   "metadata": {},
   "outputs": [
    {
     "name": "stdout",
     "output_type": "stream",
     "text": [
      "Train on 10000 samples, validate on 1500 samples\n",
      "Epoch 1/5\n",
      "10000/10000 [==============================] - 5s 504us/sample - loss: 0.2651 - acc: 0.8946 - val_loss: 0.2689 - val_acc: 0.8953\n",
      "Epoch 2/5\n",
      "10000/10000 [==============================] - 4s 435us/sample - loss: 0.2018 - acc: 0.9186 - val_loss: 0.2390 - val_acc: 0.9093\n",
      "Epoch 3/5\n",
      "10000/10000 [==============================] - 4s 444us/sample - loss: 0.1859 - acc: 0.9273 - val_loss: 0.2330 - val_acc: 0.9093\n",
      "Epoch 4/5\n",
      "10000/10000 [==============================] - 5s 472us/sample - loss: 0.1659 - acc: 0.9361 - val_loss: 0.2424 - val_acc: 0.9020\n",
      "Epoch 5/5\n",
      "10000/10000 [==============================] - 4s 436us/sample - loss: 0.1583 - acc: 0.9396 - val_loss: 0.2240 - val_acc: 0.9160\n",
      "WARNING:tensorflow:TensorFlow optimizers do not make it possible to access optimizer attributes or optimizer state after instantiation. As a result, we cannot save the optimizer as part of the model save file. You will have to compile your model again after loading it. Prefer using a Keras optimizer instead (see keras.io/optimizers).\n"
     ]
    }
   ],
   "source": [
    "history = model.fit(x = x_train[:10000], y = y_train[:10000], batch_size = batch_size, verbose=1, epochs=epochs, validation_data=(x_train[10000:11500], y_train[10000:11500]))\n",
    "model.save('models.h5')"
   ]
  },
  {
   "cell_type": "code",
   "execution_count": 21,
   "metadata": {},
   "outputs": [
    {
     "name": "stdout",
     "output_type": "stream",
     "text": [
      "WARNING:tensorflow:No training configuration found in save file: the model was *not* compiled. Compile it manually.\n",
      "dict_keys(['loss', 'acc', 'val_loss', 'val_acc'])\n"
     ]
    },
    {
     "data": {
      "image/png": "[encoded data removed]",
      "text/plain": [
       "<Figure size 864x360 with 1 Axes>"
      ]
     },
     "metadata": {
      "needs_background": "light"
     },
     "output_type": "display_data"
    },
    {
     "data": {
      "image/png": "[encoded data removed]",
      "text/plain": [
       "<Figure size 864x360 with 1 Axes>"
      ]
     },
     "metadata": {
      "needs_background": "light"
     },
     "output_type": "display_data"
    }
   ],
   "source": [
    "model_sentiment = tf.keras.models.load_model(\"models.h5\")\n",
    "\n",
    "import matplotlib.pyplot as plt\n",
    "print(history.history.keys())\n",
    "plt.figure(figsize=(12,5))\n",
    "# summarize history for accuracy\n",
    "plt.plot(history.history['acc'])\n",
    "plt.plot(history.history['val_acc'])\n",
    "plt.title('model accuracy')\n",
    "plt.ylabel('accuracy')\n",
    "plt.xlabel('epoch')\n",
    "plt.legend(['train', 'val'], loc='upper left')\n",
    "plt.show()\n",
    "# summarize history for loss\n",
    "plt.figure(figsize=(12,5))\n",
    "plt.plot(history.history['loss'])\n",
    "plt.plot(history.history['val_loss'])\n",
    "plt.title('model loss')\n",
    "plt.ylabel('loss')\n",
    "plt.xlabel('epoch')\n",
    "plt.legend(['train', 'val'], loc='upper left')\n",
    "plt.show()"
   ]
  },
  {
   "cell_type": "code",
   "execution_count": 41,
   "metadata": {},
   "outputs": [
    {
     "name": "stdout",
     "output_type": "stream",
     "text": [
      "WARNING:tensorflow:No training configuration found in save file: the model was *not* compiled. Compile it manually.\n"
     ]
    }
   ],
   "source": [
    "import tensorflow as tf \n",
    "model_sentiment = tf.keras.models.load_model(\"models.h5\")\n",
    "\n",
    "def predict(comment):\n",
    "    comment = gensim.utils.simple_preprocess(comment)\n",
    "    comment = ' '.join(comment)\n",
    "    comment = ViTokenizer.tokenize(comment)\n",
    "    # print(comment)\n",
    "    maxtrix_embedding = np.expand_dims(comment_embedding(comment), axis=0)\n",
    "    maxtrix_embedding = np.expand_dims(maxtrix_embedding, axis=3)\n",
    "    result = model_sentiment.predict(maxtrix_embedding)\n",
    "    # print(result)\n",
    "    max_index = np.argmax(result)\n",
    "    if max_index == 0: print(\"Tiêu cực\")\n",
    "    if max_index == 1: print(\"Tích cực\")\n",
    "    \n",
    "    print(result[0][max_index]*100,\"%\")"
   ]
  },
  {
   "cell_type": "code",
   "execution_count": 42,
   "metadata": {},
   "outputs": [
    {
     "name": "stdout",
     "output_type": "stream",
     "text": [
      "Tích cực\n",
      "97.49811291694641 %\n"
     ]
    }
   ],
   "source": [
    "predict(\"điện thoại mượt, pin tốt\")"
   ]
  },
  {
   "cell_type": "code",
   "execution_count": 24,
   "metadata": {},
   "outputs": [
    {
     "name": "stdout",
     "output_type": "stream",
     "text": [
      "Tiêu cực\n",
      "94.22112107276917 %\n"
     ]
    }
   ],
   "source": [
    "predict(\"mình rất thất vọng, lắp sim ko nhận\")"
   ]
  },
  {
   "cell_type": "code",
   "execution_count": 25,
   "metadata": {},
   "outputs": [
    {
     "name": "stdout",
     "output_type": "stream",
     "text": [
      "Tiêu cực\n",
      "99.08246397972107 %\n"
     ]
    }
   ],
   "source": [
    "predict(\"bắt wifi quá yếu\") "
   ]
  },
  {
   "cell_type": "code",
   "execution_count": 26,
   "metadata": {},
   "outputs": [
    {
     "name": "stdout",
     "output_type": "stream",
     "text": [
      "Tiêu cực\n",
      "84.95250344276428 %\n"
     ]
    }
   ],
   "source": [
    "predict(\"không dùng được trả hàng\")"
   ]
  },
  {
   "cell_type": "code",
   "execution_count": 27,
   "metadata": {},
   "outputs": [
    {
     "name": "stdout",
     "output_type": "stream",
     "text": [
      "Tiêu cực\n",
      "99.17163252830505 %\n"
     ]
    }
   ],
   "source": [
    "predict(\"pin tệ quá\")"
   ]
  },
  {
   "cell_type": "code",
   "execution_count": 28,
   "metadata": {},
   "outputs": [
    {
     "name": "stdout",
     "output_type": "stream",
     "text": [
      "Tiêu cực\n",
      "99.67401623725891 %\n"
     ]
    }
   ],
   "source": [
    "predict(\"mua về ko dùng được, pin tệ, loa bé\")"
   ]
  },
  {
   "cell_type": "code",
   "execution_count": 29,
   "metadata": {},
   "outputs": [
    {
     "name": "stdout",
     "output_type": "stream",
     "text": [
      "Tiêu cực\n",
      "99.67401623725891 %\n"
     ]
    }
   ],
   "source": [
    "predict(\"mua về ko dùng được, pin tệ, loa bé\")"
   ]
  },
  {
   "cell_type": "code",
   "execution_count": 30,
   "metadata": {},
   "outputs": [
    {
     "name": "stdout",
     "output_type": "stream",
     "text": [
      "Tiêu cực\n",
      "99.74256157875061 %\n"
     ]
    }
   ],
   "source": [
    "predict(\"pin tệ, quá chán\")"
   ]
  },
  {
   "cell_type": "code",
   "execution_count": 31,
   "metadata": {},
   "outputs": [
    {
     "name": "stdout",
     "output_type": "stream",
     "text": [
      "Tiêu cực\n",
      "99.17163252830505 %\n"
     ]
    }
   ],
   "source": [
    "predict(\"pin tệ quá\")"
   ]
  },
  {
   "cell_type": "code",
   "execution_count": 32,
   "metadata": {},
   "outputs": [
    {
     "name": "stdout",
     "output_type": "stream",
     "text": [
      "Tiêu cực\n",
      "93.62245798110962 %\n"
     ]
    }
   ],
   "source": [
    "predict(\"không dùng được tôi muốn trả hàng\")"
   ]
  },
  {
   "cell_type": "code",
   "execution_count": 33,
   "metadata": {},
   "outputs": [
    {
     "name": "stdout",
     "output_type": "stream",
     "text": [
      "Tiêu cực\n",
      "99.08246397972107 %\n"
     ]
    }
   ],
   "source": [
    "predict(\"bắt wifi quá yếu\") "
   ]
  },
  {
   "cell_type": "code",
   "execution_count": 34,
   "metadata": {},
   "outputs": [
    {
     "name": "stdout",
     "output_type": "stream",
     "text": [
      "Tiêu cực\n",
      "94.22112107276917 %\n"
     ]
    }
   ],
   "source": [
    "predict(\"mình rất thất vọng, lắp sim ko nhận\")"
   ]
  },
  {
   "cell_type": "code",
   "execution_count": 35,
   "metadata": {},
   "outputs": [
    {
     "name": "stdout",
     "output_type": "stream",
     "text": [
      "Tích cực\n",
      "86.62013411521912 %\n"
     ]
    }
   ],
   "source": [
    "predict(\"nhờ shop kích hoạt bảo hành\")"
   ]
  },
  {
   "cell_type": "code",
   "execution_count": 36,
   "metadata": {},
   "outputs": [
    {
     "name": "stdout",
     "output_type": "stream",
     "text": [
      "Tiêu cực\n",
      "99.68090653419495 %\n"
     ]
    }
   ],
   "source": [
    "predict(\"pin tệ quá yếu😁\")"
   ]
  },
  {
   "cell_type": "code",
   "execution_count": 37,
   "metadata": {},
   "outputs": [
    {
     "name": "stdout",
     "output_type": "stream",
     "text": [
      "Tích cực\n",
      "94.0480649471283 %\n"
     ]
    }
   ],
   "source": [
    "predict(\"pin tốt 😁\")"
   ]
  },
  {
   "cell_type": "code",
   "execution_count": 38,
   "metadata": {},
   "outputs": [
    {
     "name": "stdout",
     "output_type": "stream",
     "text": [
      "Đánh giá PR\n"
     ]
    }
   ],
   "source": [
    "print(\"Đánh giá PR\")\n",
    "\n",
    "test_result = model_sentiment.predict(x_train[12500:])\n",
    "# print(test_result[:20])\n",
    "# print(y_train[8000:8020])\n",
    "#"
   ]
  },
  {
   "cell_type": "code",
   "execution_count": 39,
   "metadata": {},
   "outputs": [
    {
     "name": "stdout",
     "output_type": "stream",
     "text": [
      "[1, 1, 1, 1, 1, 1, 0, 1, 1, 1, 1, 1, 1, 1, 1, 1, 1, 1, 1, 1, 1, 1, 1, 1, 0, 1, 1, 1, 1, 0, 1, 1, 1, 1, 1, 1, 1, 0, 1, 1, 1, 1, 1, 1, 0, 1, 0, 1, 1, 1, 1, 1, 0, 1, 1, 1, 1, 1, 1, 1, 1, 1, 1, 1, 0, 1, 1, 0, 1, 1, 1, 1, 1, 0, 1, 1, 1, 1, 1, 1, 1, 1, 1, 1, 1, 1, 1, 1, 1, 1, 1, 1, 1, 1, 1, 1, 1, 1, 0, 1, 0, 0, 0, 1, 0, 1, 1, 0, 1, 1, 1, 0, 0, 1, 1, 1, 1, 1, 1, 1, 1, 1, 0, 1, 1, 1, 1, 1, 1, 1, 0, 1, 1, 1, 0, 0, 0, 1, 1, 1, 1, 1, 1, 1, 1, 1, 1, 1, 1, 0, 1, 0, 1, 1, 0, 0, 1, 1, 1, 1, 1, 1, 1, 1, 1, 0, 0, 0, 1, 1, 1, 1, 1, 0, 0, 1, 1, 1, 1, 1, 1, 1, 1, 1, 0, 0, 0, 0, 0, 1, 0, 0, 0, 1, 1, 0, 0, 0, 0, 0, 0, 0, 0, 0, 0, 0, 0, 1, 1, 1, 1, 1, 1, 1, 0, 1, 0, 0, 0, 0, 1, 1, 1, 0, 1, 1, 0, 0, 1, 1, 1, 1, 0, 0, 1, 0, 1, 1, 1, 0, 1, 1, 0, 0, 1, 0, 1, 1, 1, 1, 1, 1, 1, 0, 1, 0, 1, 1, 1, 0, 1, 1, 1, 1, 1, 1, 1, 1, 1, 1, 1, 1]\n",
      "[1, 1, 1, 1, 1, 1, 1, 1, 1, 1, 1, 1, 1, 1, 1, 1, 0, 1, 1, 1, 1, 1, 1, 1, 1, 1, 1, 1, 1, 0, 1, 1, 1, 1, 1, 1, 1, 1, 1, 1, 1, 1, 1, 1, 0, 1, 0, 1, 1, 1, 1, 1, 1, 1, 1, 1, 1, 1, 1, 1, 1, 1, 1, 1, 1, 1, 1, 0, 1, 1, 1, 1, 1, 0, 1, 1, 1, 1, 1, 1, 1, 1, 1, 1, 1, 1, 1, 1, 1, 1, 1, 1, 1, 1, 1, 1, 1, 1, 0, 0, 0, 0, 0, 0, 0, 1, 1, 1, 1, 1, 1, 0, 0, 1, 1, 1, 1, 1, 1, 1, 1, 1, 1, 1, 1, 1, 1, 1, 1, 1, 1, 1, 1, 1, 0, 0, 1, 1, 1, 1, 1, 1, 1, 1, 1, 1, 1, 1, 1, 0, 1, 1, 1, 1, 1, 1, 1, 1, 1, 1, 1, 1, 1, 1, 1, 0, 0, 0, 1, 1, 1, 1, 1, 0, 1, 1, 0, 1, 1, 1, 1, 1, 1, 1, 0, 0, 0, 0, 0, 1, 0, 0, 0, 0, 1, 0, 0, 0, 0, 1, 0, 0, 0, 0, 0, 0, 0, 1, 1, 1, 1, 1, 1, 1, 1, 1, 0, 0, 0, 0, 1, 1, 1, 0, 1, 1, 0, 0, 1, 1, 1, 1, 0, 0, 1, 0, 1, 1, 1, 0, 1, 1, 1, 0, 1, 0, 1, 1, 1, 1, 1, 1, 1, 1, 1, 1, 1, 1, 1, 1, 1, 1, 1, 1, 1, 1, 1, 1, 1, 1, 1, 1]\n"
     ]
    }
   ],
   "source": [
    "from sklearn.metrics import precision_score\n",
    "y_predicts = test_result\n",
    "# precision_score(y_true, y_pred, average='macro')\n",
    "\n",
    "y_pred = []\n",
    "for y_predict in y_predicts:\n",
    "    max_index = np.argmax(y_predict)\n",
    "    y_pred.append(max_index)  \n",
    "print(y_pred)\n",
    "\n",
    "\n",
    "\n",
    "y_true = []\n",
    "for y in y_train[12500:]:\n",
    "    max_index = np.argmax(y)\n",
    "    y_true.append(max_index)  \n",
    "print(y_true)"
   ]
  },
  {
   "cell_type": "code",
   "execution_count": 40,
   "metadata": {},
   "outputs": [
    {
     "name": "stdout",
     "output_type": "stream",
     "text": [
      "0.9117647058823529\n",
      "0.8519094766619519\n"
     ]
    }
   ],
   "source": [
    "micro = precision_score(y_true, y_pred, average='micro')\n",
    "macro = precision_score(y_true, y_pred, average='macro')\n",
    "\n",
    "print(micro); print(macro)"
   ]
  },
  {
   "cell_type": "code",
   "execution_count": null,
   "metadata": {},
   "outputs": [],
   "source": []
  },
  {
   "cell_type": "code",
   "execution_count": null,
   "metadata": {},
   "outputs": [],
   "source": []
  }
 ],
 "metadata": {
  "kernelspec": {
   "display_name": "Python 3",
   "language": "python",
   "name": "python3"
  },
  "language_info": {
   "codemirror_mode": {
    "name": "ipython",
    "version": 3
   },
   "file_extension": ".py",
   "mimetype": "text/x-python",
   "name": "python",
   "nbconvert_exporter": "python",
   "pygments_lexer": "ipython3",
   "version": "3.7.3"
  }
 },
 "nbformat": 4,
 "nbformat_minor": 2
}
